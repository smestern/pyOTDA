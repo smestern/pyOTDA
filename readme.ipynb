{
 "cells": [
  {
   "cell_type": "markdown",
   "metadata": {},
   "source": [
    "# patchOTDA\n",
    "## What is this?\n",
    "The aim of this package is to facilitate the integration of patch clamp electrophysiology datasets. Due to the sensitivity of patch clamp electrophysiological recordings to a variety of different extraneous variables, for example, temperature, solution, region, etc.\n",
    "![](assets/dataset_drift.PNG)  \n",
    "\n",
    "patchOTDA is a small python package that wraps several optimal transport based domain adaptation packages. The package aims to help intermediate users integrate two datasets by following simple OOP conventions.  \n",
    " \n",
    "End users are encouraged to check out the streamlit app: https://patchotda.streamlit.app/. This app allows you to integrate your dataset with a reference dataset from the Allen Institute.\n"
   ]
  },
  {
   "cell_type": "markdown",
   "metadata": {},
   "source": [
    "## Quickstart"
   ]
  },
  {
   "cell_type": "markdown",
   "metadata": {},
   "source": [
    "### Install\n",
    "\n",
    "The package is not currently available on pip but can be installed by pulling the git repo\n",
    "\n",
    "```\n",
    "pip install git+https://github.com/smestern/pypatchOTDA.git\n",
    "```\n",
    "\n",
    "Should install the packages and their dependencies.\n",
    "To use SKADA, and FUGW transporters, the user will need to install these additional dependencies manually\n",
    "\n",
    "```\n",
    "pip install git+https://github.com/scikit-adaptation/skada\n",
    "pip install unbalancedgw\n",
    "```"
   ]
  },
  {
   "cell_type": "markdown",
   "metadata": {},
   "source": [
    "### Basic usage\n",
    "\n",
    "The basic patchOTDA object is a wrapper around the POT domain adaptation method(s). Here we implement a few error catches and manipulations to allow the user to easily plug and play their data.\n",
    "To begin with, you can initiate the patchOTDA object"
   ]
  },
  {
   "cell_type": "code",
   "execution_count": null,
   "metadata": {},
   "outputs": [],
   "source": [
    "import patchOTDA.domainAdapt as pOTDA\n",
    "patchOTDA.patchOTDA()"
   ]
  }
 ],
 "metadata": {
  "kernelspec": {
   "display_name": "Python 3",
   "language": "python",
   "name": "python3"
  },
  "language_info": {
   "name": "python",
   "version": "3.11.3"
  }
 },
 "nbformat": 4,
 "nbformat_minor": 2
}
